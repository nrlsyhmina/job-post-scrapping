{
 "cells": [
  {
   "cell_type": "code",
   "execution_count": 68,
   "id": "b0acedea",
   "metadata": {},
   "outputs": [],
   "source": [
    "import pandas as pd\n",
    "import requests\n",
    "from bs4 import BeautifulSoup\n",
    "import csv\n",
    "from datetime import datetime"
   ]
  },
  {
   "cell_type": "code",
   "execution_count": 37,
   "id": "3bdadab4",
   "metadata": {},
   "outputs": [],
   "source": [
    "template = 'https://malaysia.indeed.com/jobs?q={}&l={}'"
   ]
  },
  {
   "cell_type": "code",
   "execution_count": 43,
   "id": "c7d9ebda",
   "metadata": {},
   "outputs": [],
   "source": [
    "def get_url(position, location):\n",
    "    template = 'https://malaysia.indeed.com/jobs?q={}&l={}'\n",
    "    url = template.format(position, location)\n",
    "    return url"
   ]
  },
  {
   "cell_type": "code",
   "execution_count": 44,
   "id": "8d8e0562",
   "metadata": {},
   "outputs": [],
   "source": [
    "url = get_url('computer science', 'malaysia')"
   ]
  },
  {
   "cell_type": "code",
   "execution_count": 32,
   "id": "44e1d9df",
   "metadata": {},
   "outputs": [],
   "source": [
    "response = requests.get(url)"
   ]
  },
  {
   "cell_type": "code",
   "execution_count": 33,
   "id": "27360109",
   "metadata": {},
   "outputs": [
    {
     "data": {
      "text/plain": [
       "<Response [200]>"
      ]
     },
     "execution_count": 33,
     "metadata": {},
     "output_type": "execute_result"
    }
   ],
   "source": [
    "response"
   ]
  },
  {
   "cell_type": "code",
   "execution_count": 34,
   "id": "3f8b1a98",
   "metadata": {},
   "outputs": [
    {
     "data": {
      "text/plain": [
       "''"
      ]
     },
     "execution_count": 34,
     "metadata": {},
     "output_type": "execute_result"
    }
   ],
   "source": [
    "response.reason"
   ]
  },
  {
   "cell_type": "code",
   "execution_count": 35,
   "id": "4aabcf54",
   "metadata": {},
   "outputs": [],
   "source": [
    "soup = BeautifulSoup(response.text, 'html.parser')"
   ]
  },
  {
   "cell_type": "code",
   "execution_count": 36,
   "id": "bd860a2f",
   "metadata": {},
   "outputs": [],
   "source": [
    "cards = soup.find_all('div', 'jobsearch-SerpJobCard')"
   ]
  },
  {
   "cell_type": "code",
   "execution_count": 25,
   "id": "04316ec0",
   "metadata": {},
   "outputs": [
    {
     "data": {
      "text/plain": [
       "0"
      ]
     },
     "execution_count": 25,
     "metadata": {},
     "output_type": "execute_result"
    }
   ],
   "source": [
    "len(cards)"
   ]
  },
  {
   "cell_type": "code",
   "execution_count": 51,
   "id": "6b1892e1",
   "metadata": {},
   "outputs": [],
   "source": [
    "card = cards[0]"
   ]
  },
  {
   "cell_type": "code",
   "execution_count": 52,
   "id": "a81420c3",
   "metadata": {},
   "outputs": [],
   "source": [
    "atag = card.h2.a"
   ]
  },
  {
   "cell_type": "code",
   "execution_count": 53,
   "id": "60e573b0",
   "metadata": {},
   "outputs": [],
   "source": [
    "job_title = atag.get('title')"
   ]
  },
  {
   "cell_type": "code",
   "execution_count": 54,
   "id": "072f29d3",
   "metadata": {},
   "outputs": [],
   "source": [
    "job_url = 'https://malaysia.indeed.com/' + atag.get('href')"
   ]
  },
  {
   "cell_type": "code",
   "execution_count": 55,
   "id": "d7a76737",
   "metadata": {},
   "outputs": [],
   "source": [
    "company = card.find('span', 'company').text.strip()"
   ]
  },
  {
   "cell_type": "code",
   "execution_count": 56,
   "id": "4eb2765b",
   "metadata": {},
   "outputs": [],
   "source": [
    "job_location = card.find('div', 'recJobLoc').get('data-rc-loc')"
   ]
  },
  {
   "cell_type": "code",
   "execution_count": 58,
   "id": "bddaef89",
   "metadata": {},
   "outputs": [],
   "source": [
    "job_summary = card.find('div', 'summary').text.strip()"
   ]
  },
  {
   "cell_type": "code",
   "execution_count": 59,
   "id": "b37cbfd3",
   "metadata": {},
   "outputs": [],
   "source": [
    "post_date = card.find('span', 'date').text"
   ]
  },
  {
   "cell_type": "code",
   "execution_count": 62,
   "id": "e0b21244",
   "metadata": {},
   "outputs": [],
   "source": [
    "try:\n",
    "    job_salary = card.find('span', 'salaryText').text.strip()\n",
    "except AttributeError:\n",
    "    job_salary = ''"
   ]
  },
  {
   "cell_type": "code",
   "execution_count": 63,
   "id": "c83622dc",
   "metadata": {},
   "outputs": [],
   "source": [
    "def get_record(card):\n",
    "    atag = card.h2.a\n",
    "    job_title = atag.get('title')\n",
    "    job_url = 'https://malaysia.indeed.com/' + atag.get('href')\n",
    "    company = card.find('span', 'company').text.strip()\n",
    "    job_location = card.find('div', 'recJobLoc').get('data-rc-loc')\n",
    "    job_summary = card.find('div', 'summary').text.strip()\n",
    "    post_date = card.find('span', 'date').text\n",
    "    try:\n",
    "        job_salary = card.find('span', 'salaryText').text.strip()\n",
    "    except AttributeError:\n",
    "        job_salary = ''\n",
    "        \n",
    "    record = (job_title, company, job_summary, job_location, job_url, post_date)\n",
    "    \n",
    "    return record"
   ]
  },
  {
   "cell_type": "code",
   "execution_count": 64,
   "id": "c31a0dda",
   "metadata": {},
   "outputs": [],
   "source": [
    "records = []\n",
    "\n",
    "for card in cards:\n",
    "    record = get_record(card)\n",
    "    records.append(record)"
   ]
  },
  {
   "cell_type": "code",
   "execution_count": 65,
   "id": "ab6437c9",
   "metadata": {},
   "outputs": [
    {
     "data": {
      "text/plain": [
       "('COMPUTER SCIENCE TEACHER',\n",
       " 'TAJAN INTEGRATED EDUCATION SDN BHD',\n",
       " 'To focus on motivating the students and building on their knowledge, skills and understanding so that they reach the highest level of personal achievement.',\n",
       " 'Putrajaya',\n",
       " 'https://malaysia.indeed.com//rc/clk?jk=b1060c4e87a40c57&fccid=cb072e650df7b1fc&vjs=3',\n",
       " '7 days ago')"
      ]
     },
     "execution_count": 65,
     "metadata": {},
     "output_type": "execute_result"
    }
   ],
   "source": [
    "records[0]"
   ]
  },
  {
   "cell_type": "code",
   "execution_count": 67,
   "id": "0a746384",
   "metadata": {},
   "outputs": [],
   "source": [
    "while True:\n",
    "    try:\n",
    "        url = 'https://malaysia.indeed.com/' + soup.find('a', {'aria-label': 'Next'}).get('href')\n",
    "    except AttributeError:\n",
    "        break\n",
    "    \n",
    "    response = requests.get(url)\n",
    "    soup = BeautifulSoup(response.text, 'html.parser')\n",
    "    cards = soup.find_all('div', 'jobsearch-SerpJobCard')\n",
    "    \n",
    "    for card in cards:\n",
    "        record = get_record(card)\n",
    "        records.append(record)"
   ]
  },
  {
   "cell_type": "markdown",
   "id": "11523ebf",
   "metadata": {},
   "source": [
    "import pandas as pd\n",
    "import requests\n",
    "from bs4 import BeautifulSoup\n",
    "import csv\n",
    "from datetime import datetime\n",
    "\n",
    "def get_url(position, location):\n",
    "    template = 'https://malaysia.indeed.com/jobs?q={}&l={}'\n",
    "    url = template.format(position, location)\n",
    "    return url\n",
    "    \n",
    "def get_record(card):\n",
    "    atag = card.h2.a\n",
    "    job_title = atag.get('title')\n",
    "    job_url = 'https://malaysia.indeed.com/' + atag.get('href')\n",
    "    company = card.find('span', 'company').text.strip()\n",
    "    job_location = card.find('div', 'recJobLoc').get('data-rc-loc')\n",
    "    job_summary = card.find('div', 'summary').text.strip()\n",
    "    post_date = card.find('span', 'date').text\n",
    "    try:\n",
    "        job_salary = card.find('span', 'salaryText').text.strip()\n",
    "    except AttributeError:\n",
    "        job_salary = ''\n",
    "        \n",
    "    record = (job_title, company, job_summary, job_location, job_url, post_date)\n",
    "    \n",
    "    return record\n",
    "\n",
    "def main(position, location)\n",
    "    records = []\n",
    "    url = get_url(position, location)\n",
    "    \n",
    "    while True:\n",
    "        response = requests.get(url)\n",
    "        soup = BeautifulSoup(response.text, 'html.parser')\n",
    "        cards = soup.find_all('div', 'jobSearch-SerpJobCard')\n",
    "        \n",
    "        for card in cards:\n",
    "            recrod = get_record(card)\n",
    "            records.append(record)\n",
    "            \n",
    "        try:\n",
    "            url = 'https://malaysia.indeed.com/' + soup.find('a', {'aria-label': 'Next'}).get('href')\n",
    "        except AttributeError:\n",
    "            break\n",
    "        \n",
    "   with open('results.csv', 'w', newline='', encoding='utf-8' as f:\n",
    "       writer = csv.writer(f)\n",
    "       writer.writerow(['JobTitle', 'Company', 'Location, 'PostDate', 'Summary', 'Salary', 'JobUrl'])\n",
    "       writer.writerows(records)\n",
    "        \n",
    "    \n"
   ]
  },
  {
   "cell_type": "code",
   "execution_count": 89,
   "id": "3b1c3cfa",
   "metadata": {},
   "outputs": [],
   "source": [
    "import pandas as pd\n",
    "import requests\n",
    "from bs4 import BeautifulSoup\n",
    "import csv\n",
    "from datetime import datetime\n",
    "\n",
    "def get_url(position, location): \n",
    "    template = 'https://malaysia.indeed.com/jobs?q=multimedia+&l=' \n",
    "    url = template.format(position, location)\n",
    "    return url\n",
    "\n",
    "def get_record(card): \n",
    "    atag = card.h2.a \n",
    "    job_title = atag.get('title') \n",
    "    job_url = 'https://malaysia.indeed.com/' + atag.get('href') \n",
    "    company = card.find('span', 'company').text.strip() \n",
    "    job_location = card.find('div', 'recJobLoc').get('data-rc-loc') \n",
    "    job_summary = card.find('div', 'summary').text.strip()\n",
    "    post_date = card.find('span', 'date').text\n",
    "    \n",
    "    try: \n",
    "        job_salary = card.find('span', 'salaryText').text.strip()\n",
    "    except AttributeError: job_salary = ''\n",
    "\n",
    "    record = (job_title, company, job_summary, job_location, job_url, post_date)\n",
    "\n",
    "    return record\n",
    "\n",
    "def main(position, location):\n",
    "    records = []\n",
    "    url = get_url(position, location)\n",
    "\n",
    "while True:\n",
    "    response = requests.get(url)\n",
    "    soup = BeautifulSoup(response.text, 'html.parser')\n",
    "    cards = soup.find_all('div', 'jobSearch-SerpJobCard')\n",
    "\n",
    "    for card in cards:\n",
    "        recrod = get_record(card)\n",
    "        records.append(record)\n",
    "\n",
    "    try:\n",
    "        url = 'https://malaysia.indeed.com/' + soup.find('a', {'aria-label': 'Next'}).get('href')\n",
    "    except AttributeError:\n",
    "        break\n",
    "with open('multi.csv', 'w', newline='', encoding='utf-8') as f: \n",
    "          writer = csv.writer(f) \n",
    "          writer.writerow(['JobTitle', 'Company', 'Summary', 'Location', 'JobUrl', 'PostDate']) \n",
    "          writer.writerows(records)"
   ]
  },
  {
   "cell_type": "code",
   "execution_count": 90,
   "id": "b8c82857",
   "metadata": {},
   "outputs": [],
   "source": [
    "main('multimedia', 'malaysia')"
   ]
  }
 ],
 "metadata": {
  "kernelspec": {
   "display_name": "Python 3",
   "language": "python",
   "name": "python3"
  },
  "language_info": {
   "codemirror_mode": {
    "name": "ipython",
    "version": 3
   },
   "file_extension": ".py",
   "mimetype": "text/x-python",
   "name": "python",
   "nbconvert_exporter": "python",
   "pygments_lexer": "ipython3",
   "version": "3.8.8"
  }
 },
 "nbformat": 4,
 "nbformat_minor": 5
}
